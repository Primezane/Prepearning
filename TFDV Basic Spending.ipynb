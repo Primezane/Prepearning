{
 "cells": [
  {
   "cell_type": "code",
   "execution_count": null,
   "id": "b90a2a77-ea16-4c7e-a391-e5ec0ca258f4",
   "metadata": {},
   "outputs": [],
   "source": [
    "!pip install tensorflow-data-validation\n",
    "!pip install -q tensorflow_data_validation[visualization]"
   ]
  },
  {
   "cell_type": "code",
   "execution_count": null,
   "id": "52c621c2-4c7f-4338-bd60-48b176f1fe00",
   "metadata": {},
   "outputs": [],
   "source": [
    "import pandas as pd\n",
    "import tensorflow_data_validation as tfdv\n",
    "import sys\n",
    "import warnings\n",
    "warnings.filterwarnings('ignore')\n",
    "\n",
    "assert sys.version_info.major == 3, 'Oops, not running Python 3. Use Runtime > Change runtime type'"
   ]
  },
  {
   "cell_type": "markdown",
   "id": "3d507550-ce0d-4057-b402-7b9e446e7655",
   "metadata": {},
   "source": [
    "###  Load the Consumer Spending Dataset\n",
    "\n",
    "> Graduated = Whether or not the person is a college graduate  \n",
    "> Work Experience = The number of years in the workforce  \n",
    "> Family Size = The size of the family unit  \n",
    "> Spending Score = The spending score for consumer spending"
   ]
  },
  {
   "cell_type": "code",
   "execution_count": 3,
   "id": "1cfb202d-b9ac-4f70-8ddd-72855bab530c",
   "metadata": {},
   "outputs": [
    {
     "data": {
      "text/html": [
       "<div>\n",
       "<style scoped>\n",
       "    .dataframe tbody tr th:only-of-type {\n",
       "        vertical-align: middle;\n",
       "    }\n",
       "\n",
       "    .dataframe tbody tr th {\n",
       "        vertical-align: top;\n",
       "    }\n",
       "\n",
       "    .dataframe thead th {\n",
       "        text-align: right;\n",
       "    }\n",
       "</style>\n",
       "<table border=\"1\" class=\"dataframe\">\n",
       "  <thead>\n",
       "    <tr style=\"text-align: right;\">\n",
       "      <th></th>\n",
       "      <th>Graduated</th>\n",
       "      <th>Profession</th>\n",
       "      <th>Work_Experience</th>\n",
       "      <th>Family_Size</th>\n",
       "      <th>Spending_Score</th>\n",
       "    </tr>\n",
       "  </thead>\n",
       "  <tbody>\n",
       "    <tr>\n",
       "      <th>0</th>\n",
       "      <td>No</td>\n",
       "      <td>Healthcare</td>\n",
       "      <td>1.0</td>\n",
       "      <td>4.0</td>\n",
       "      <td>Low</td>\n",
       "    </tr>\n",
       "    <tr>\n",
       "      <th>1</th>\n",
       "      <td>Yes</td>\n",
       "      <td>Engineer</td>\n",
       "      <td>NaN</td>\n",
       "      <td>3.0</td>\n",
       "      <td>Average</td>\n",
       "    </tr>\n",
       "    <tr>\n",
       "      <th>2</th>\n",
       "      <td>Yes</td>\n",
       "      <td>Engineer</td>\n",
       "      <td>1.0</td>\n",
       "      <td>1.0</td>\n",
       "      <td>Low</td>\n",
       "    </tr>\n",
       "    <tr>\n",
       "      <th>3</th>\n",
       "      <td>Yes</td>\n",
       "      <td>Lawyer</td>\n",
       "      <td>0.0</td>\n",
       "      <td>2.0</td>\n",
       "      <td>High</td>\n",
       "    </tr>\n",
       "    <tr>\n",
       "      <th>4</th>\n",
       "      <td>Yes</td>\n",
       "      <td>Entertainment</td>\n",
       "      <td>NaN</td>\n",
       "      <td>6.0</td>\n",
       "      <td>High</td>\n",
       "    </tr>\n",
       "  </tbody>\n",
       "</table>\n",
       "</div>"
      ],
      "text/plain": [
       "  Graduated     Profession  Work_Experience  Family_Size Spending_Score\n",
       "0        No     Healthcare              1.0          4.0            Low\n",
       "1       Yes       Engineer              NaN          3.0        Average\n",
       "2       Yes       Engineer              1.0          1.0            Low\n",
       "3       Yes         Lawyer              0.0          2.0           High\n",
       "4       Yes  Entertainment              NaN          6.0           High"
      ]
     },
     "execution_count": 3,
     "metadata": {},
     "output_type": "execute_result"
    }
   ],
   "source": [
    "score_train = pd.read_csv(\"data/score_train.csv\")\n",
    "score_train.head()"
   ]
  },
  {
   "cell_type": "code",
   "execution_count": 4,
   "id": "fc2a1b43-65af-47dc-bd43-091a9b7d8330",
   "metadata": {},
   "outputs": [
    {
     "data": {
      "text/html": [
       "<div>\n",
       "<style scoped>\n",
       "    .dataframe tbody tr th:only-of-type {\n",
       "        vertical-align: middle;\n",
       "    }\n",
       "\n",
       "    .dataframe tbody tr th {\n",
       "        vertical-align: top;\n",
       "    }\n",
       "\n",
       "    .dataframe thead th {\n",
       "        text-align: right;\n",
       "    }\n",
       "</style>\n",
       "<table border=\"1\" class=\"dataframe\">\n",
       "  <thead>\n",
       "    <tr style=\"text-align: right;\">\n",
       "      <th></th>\n",
       "      <th>Graduated</th>\n",
       "      <th>Profession</th>\n",
       "      <th>Work_Experience</th>\n",
       "      <th>Family_Size</th>\n",
       "      <th>Spending_Score</th>\n",
       "    </tr>\n",
       "  </thead>\n",
       "  <tbody>\n",
       "    <tr>\n",
       "      <th>0</th>\n",
       "      <td>No</td>\n",
       "      <td>Doctor</td>\n",
       "      <td>0.0</td>\n",
       "      <td>5.0</td>\n",
       "      <td>Average</td>\n",
       "    </tr>\n",
       "    <tr>\n",
       "      <th>1</th>\n",
       "      <td>Yes</td>\n",
       "      <td>Entertainment</td>\n",
       "      <td>1.0</td>\n",
       "      <td>4.0</td>\n",
       "      <td>Average</td>\n",
       "    </tr>\n",
       "    <tr>\n",
       "      <th>2</th>\n",
       "      <td>No</td>\n",
       "      <td>Lawyer</td>\n",
       "      <td>0.0</td>\n",
       "      <td>5.0</td>\n",
       "      <td>Low</td>\n",
       "    </tr>\n",
       "    <tr>\n",
       "      <th>3</th>\n",
       "      <td>Yes</td>\n",
       "      <td>Executive</td>\n",
       "      <td>1.0</td>\n",
       "      <td>5.0</td>\n",
       "      <td>High</td>\n",
       "    </tr>\n",
       "    <tr>\n",
       "      <th>4</th>\n",
       "      <td>Yes</td>\n",
       "      <td>Artist</td>\n",
       "      <td>1.0</td>\n",
       "      <td>2.0</td>\n",
       "      <td>Average</td>\n",
       "    </tr>\n",
       "  </tbody>\n",
       "</table>\n",
       "</div>"
      ],
      "text/plain": [
       "  Graduated     Profession  Work_Experience  Family_Size Spending_Score\n",
       "0        No         Doctor              0.0          5.0        Average\n",
       "1       Yes  Entertainment              1.0          4.0        Average\n",
       "2        No         Lawyer              0.0          5.0            Low\n",
       "3       Yes      Executive              1.0          5.0           High\n",
       "4       Yes         Artist              1.0          2.0        Average"
      ]
     },
     "execution_count": 4,
     "metadata": {},
     "output_type": "execute_result"
    }
   ],
   "source": [
    "score_test = pd.read_csv(\"data/score_test.csv\")\n",
    "score_test.head()"
   ]
  },
  {
   "cell_type": "code",
   "execution_count": 5,
   "id": "b50cb46d-69fe-4586-bd5a-7085310d81b2",
   "metadata": {},
   "outputs": [
    {
     "name": "stdout",
     "output_type": "stream",
     "text": [
      "<class 'pandas.core.frame.DataFrame'>\n",
      "RangeIndex: 4000 entries, 0 to 3999\n",
      "Data columns (total 5 columns):\n",
      " #   Column           Non-Null Count  Dtype  \n",
      "---  ------           --------------  -----  \n",
      " 0   Graduated        3964 non-null   object \n",
      " 1   Profession       3944 non-null   object \n",
      " 2   Work_Experience  3589 non-null   float64\n",
      " 3   Family_Size      3831 non-null   float64\n",
      " 4   Spending_Score   4000 non-null   object \n",
      "dtypes: float64(2), object(3)\n",
      "memory usage: 156.4+ KB\n"
     ]
    }
   ],
   "source": [
    "score_train.info()"
   ]
  },
  {
   "cell_type": "markdown",
   "id": "ca0c1948-3897-45be-87aa-8b53c8b6fb68",
   "metadata": {},
   "source": [
    "#### Describe and Visualize Train Dataset Statistics"
   ]
  },
  {
   "cell_type": "markdown",
   "id": "347fdb5d-9885-4ca5-87b7-cc6ffa369b9e",
   "metadata": {},
   "source": [
    "#### TFDV generates different types of statistics based on the type of features.\n",
    "\n",
    "**For numerical features, TFDV computes for every feature:**\n",
    "* Count of records\n",
    "* Number of missing (i.e. null values)\n",
    "* Histogram of values\n",
    "* Mean and standard deviation\n",
    "* Minimum and maximum values\n",
    "* Percentage of zero values\n",
    "\n",
    "**For categorical features, TFDV provides:**\n",
    "* Count of values\n",
    "* Percentage of missing values\n",
    "* Number of unique values\n",
    "* Average string length\n",
    "* Count for each label and its rank"
   ]
  },
  {
   "cell_type": "code",
   "execution_count": 6,
   "id": "63d81165-eec8-4157-bce2-b9fa8595f19b",
   "metadata": {},
   "outputs": [
    {
     "data": {
      "text/html": [
       "<iframe id='facets-iframe' width=\"100%\" height=\"500px\"></iframe>\n",
       "        <script>\n",
       "        facets_iframe = document.getElementById('facets-iframe');\n",
       "        facets_html = '<script src=\"https://cdnjs.cloudflare.com/ajax/libs/webcomponentsjs/1.3.3/webcomponents-lite.js\"><\\/script><link rel=\"import\" href=\"https://raw.githubusercontent.com/PAIR-code/facets/master/facets-dist/facets-jupyter.html\"><facets-overview proto-input=\"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\"></facets-overview>';\n",
       "        facets_iframe.srcdoc = facets_html;\n",
       "         facets_iframe.id = \"\";\n",
       "         setTimeout(() => {\n",
       "           facets_iframe.setAttribute('height', facets_iframe.contentWindow.document.body.offsetHeight + 'px')\n",
       "         }, 1500)\n",
       "         </script>"
      ],
      "text/plain": [
       "<IPython.core.display.HTML object>"
      ]
     },
     "metadata": {},
     "output_type": "display_data"
    }
   ],
   "source": [
    "train_stats = tfdv.generate_statistics_from_dataframe(dataframe=score_train)\n",
    "tfdv.visualize_statistics(train_stats)"
   ]
  },
  {
   "cell_type": "markdown",
   "id": "909fa36c-4d2a-4c88-b7a9-42cd2e587835",
   "metadata": {},
   "source": [
    "Describe and Visualize Test Dataset Statistics"
   ]
  },
  {
   "cell_type": "code",
   "execution_count": 7,
   "id": "192266aa-d63c-4c68-9317-42a959026b9e",
   "metadata": {},
   "outputs": [
    {
     "data": {
      "text/html": [
       "<iframe id='facets-iframe' width=\"100%\" height=\"500px\"></iframe>\n",
       "        <script>\n",
       "        facets_iframe = document.getElementById('facets-iframe');\n",
       "        facets_html = '<script src=\"https://cdnjs.cloudflare.com/ajax/libs/webcomponentsjs/1.3.3/webcomponents-lite.js\"><\\/script><link rel=\"import\" href=\"https://raw.githubusercontent.com/PAIR-code/facets/master/facets-dist/facets-jupyter.html\"><facets-overview proto-input=\"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\"></facets-overview>';\n",
       "        facets_iframe.srcdoc = facets_html;\n",
       "         facets_iframe.id = \"\";\n",
       "         setTimeout(() => {\n",
       "           facets_iframe.setAttribute('height', facets_iframe.contentWindow.document.body.offsetHeight + 'px')\n",
       "         }, 1500)\n",
       "         </script>"
      ],
      "text/plain": [
       "<IPython.core.display.HTML object>"
      ]
     },
     "metadata": {},
     "output_type": "display_data"
    }
   ],
   "source": [
    "test_stats = tfdv.generate_statistics_from_dataframe(dataframe=score_test)\n",
    "tfdv.visualize_statistics(test_stats)"
   ]
  },
  {
   "cell_type": "markdown",
   "id": "a469f748-a114-492f-8c18-c47a1ac8fa73",
   "metadata": {},
   "source": [
    "#### Describe and Visualize Both Train and Test Statistics Dataset"
   ]
  },
  {
   "cell_type": "code",
   "execution_count": 8,
   "id": "f645be9d-70c4-4d60-861c-2c01961eedfb",
   "metadata": {},
   "outputs": [
    {
     "data": {
      "text/html": [
       "<iframe id='facets-iframe' width=\"100%\" height=\"500px\"></iframe>\n",
       "        <script>\n",
       "        facets_iframe = document.getElementById('facets-iframe');\n",
       "        facets_html = '<script src=\"https://cdnjs.cloudflare.com/ajax/libs/webcomponentsjs/1.3.3/webcomponents-lite.js\"><\\/script><link rel=\"import\" href=\"https://raw.githubusercontent.com/PAIR-code/facets/master/facets-dist/facets-jupyter.html\"><facets-overview proto-input=\"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\"></facets-overview>';\n",
       "        facets_iframe.srcdoc = facets_html;\n",
       "         facets_iframe.id = \"\";\n",
       "         setTimeout(() => {\n",
       "           facets_iframe.setAttribute('height', facets_iframe.contentWindow.document.body.offsetHeight + 'px')\n",
       "         }, 1500)\n",
       "         </script>"
      ],
      "text/plain": [
       "<IPython.core.display.HTML object>"
      ]
     },
     "metadata": {},
     "output_type": "display_data"
    }
   ],
   "source": [
    "tfdv.visualize_statistics(\n",
    "    lhs_statistics=train_stats, rhs_statistics=test_stats,\n",
    "    lhs_name='Train', rhs_name='Test'\n",
    ")"
   ]
  },
  {
   "cell_type": "markdown",
   "id": "020b6a32-04b3-4388-88a5-5bc74b2d3c4a",
   "metadata": {},
   "source": [
    "#### Train Schema"
   ]
  },
  {
   "cell_type": "code",
   "execution_count": 9,
   "id": "7d6faf0c-11f9-4c1b-b26a-ac5d77298adc",
   "metadata": {},
   "outputs": [
    {
     "name": "stdout",
     "output_type": "stream",
     "text": [
      "feature {\n",
      "  name: \"Graduated\"\n",
      "  value_count {\n",
      "    min: 1\n",
      "    max: 1\n",
      "  }\n",
      "  type: BYTES\n",
      "  domain: \"Graduated\"\n",
      "  presence {\n",
      "    min_count: 1\n",
      "  }\n",
      "}\n",
      "feature {\n",
      "  name: \"Profession\"\n",
      "  value_count {\n",
      "    min: 1\n",
      "    max: 1\n",
      "  }\n",
      "  type: BYTES\n",
      "  domain: \"Profession\"\n",
      "  presence {\n",
      "    min_count: 1\n",
      "  }\n",
      "}\n",
      "feature {\n",
      "  name: \"Work_Experience\"\n",
      "  value_count {\n",
      "    min: 1\n",
      "    max: 1\n",
      "  }\n",
      "  type: FLOAT\n",
      "  presence {\n",
      "    min_count: 1\n",
      "  }\n",
      "}\n",
      "feature {\n",
      "  name: \"Family_Size\"\n",
      "  value_count {\n",
      "    min: 1\n",
      "    max: 1\n",
      "  }\n",
      "  type: FLOAT\n",
      "  presence {\n",
      "    min_count: 1\n",
      "  }\n",
      "}\n",
      "feature {\n",
      "  name: \"Spending_Score\"\n",
      "  type: BYTES\n",
      "  domain: \"Spending_Score\"\n",
      "  presence {\n",
      "    min_fraction: 1.0\n",
      "    min_count: 1\n",
      "  }\n",
      "  shape {\n",
      "    dim {\n",
      "      size: 1\n",
      "    }\n",
      "  }\n",
      "}\n",
      "string_domain {\n",
      "  name: \"Graduated\"\n",
      "  value: \"No\"\n",
      "  value: \"Yes\"\n",
      "}\n",
      "string_domain {\n",
      "  name: \"Profession\"\n",
      "  value: \"Artist\"\n",
      "  value: \"Doctor\"\n",
      "  value: \"Engineer\"\n",
      "  value: \"Entertainment\"\n",
      "  value: \"Executive\"\n",
      "  value: \"Healthcare\"\n",
      "  value: \"Homemaker\"\n",
      "  value: \"Lawyer\"\n",
      "  value: \"Marketing\"\n",
      "}\n",
      "string_domain {\n",
      "  name: \"Spending_Score\"\n",
      "  value: \"Average\"\n",
      "  value: \"High\"\n",
      "  value: \"Low\"\n",
      "}\n",
      "\n"
     ]
    }
   ],
   "source": [
    "schema = tfdv.infer_schema(statistics=train_stats)\n",
    "print(schema)"
   ]
  },
  {
   "cell_type": "markdown",
   "id": "b3661601-cb34-495f-bbf8-0801cd83a389",
   "metadata": {},
   "source": [
    "#### Schema Display"
   ]
  },
  {
   "cell_type": "code",
   "execution_count": 10,
   "id": "3767ca0c-c7eb-477d-bee8-8319e1119a34",
   "metadata": {},
   "outputs": [
    {
     "data": {
      "text/html": [
       "<div>\n",
       "<style scoped>\n",
       "    .dataframe tbody tr th:only-of-type {\n",
       "        vertical-align: middle;\n",
       "    }\n",
       "\n",
       "    .dataframe tbody tr th {\n",
       "        vertical-align: top;\n",
       "    }\n",
       "\n",
       "    .dataframe thead th {\n",
       "        text-align: right;\n",
       "    }\n",
       "</style>\n",
       "<table border=\"1\" class=\"dataframe\">\n",
       "  <thead>\n",
       "    <tr style=\"text-align: right;\">\n",
       "      <th></th>\n",
       "      <th>Type</th>\n",
       "      <th>Presence</th>\n",
       "      <th>Valency</th>\n",
       "      <th>Domain</th>\n",
       "    </tr>\n",
       "    <tr>\n",
       "      <th>Feature name</th>\n",
       "      <th></th>\n",
       "      <th></th>\n",
       "      <th></th>\n",
       "      <th></th>\n",
       "    </tr>\n",
       "  </thead>\n",
       "  <tbody>\n",
       "    <tr>\n",
       "      <th>'Graduated'</th>\n",
       "      <td>STRING</td>\n",
       "      <td>optional</td>\n",
       "      <td>single</td>\n",
       "      <td>'Graduated'</td>\n",
       "    </tr>\n",
       "    <tr>\n",
       "      <th>'Profession'</th>\n",
       "      <td>STRING</td>\n",
       "      <td>optional</td>\n",
       "      <td>single</td>\n",
       "      <td>'Profession'</td>\n",
       "    </tr>\n",
       "    <tr>\n",
       "      <th>'Work_Experience'</th>\n",
       "      <td>FLOAT</td>\n",
       "      <td>optional</td>\n",
       "      <td>single</td>\n",
       "      <td>-</td>\n",
       "    </tr>\n",
       "    <tr>\n",
       "      <th>'Family_Size'</th>\n",
       "      <td>FLOAT</td>\n",
       "      <td>optional</td>\n",
       "      <td>single</td>\n",
       "      <td>-</td>\n",
       "    </tr>\n",
       "    <tr>\n",
       "      <th>'Spending_Score'</th>\n",
       "      <td>STRING</td>\n",
       "      <td>required</td>\n",
       "      <td></td>\n",
       "      <td>'Spending_Score'</td>\n",
       "    </tr>\n",
       "  </tbody>\n",
       "</table>\n",
       "</div>"
      ],
      "text/plain": [
       "                     Type  Presence Valency            Domain\n",
       "Feature name                                                 \n",
       "'Graduated'        STRING  optional  single       'Graduated'\n",
       "'Profession'       STRING  optional  single      'Profession'\n",
       "'Work_Experience'   FLOAT  optional  single                 -\n",
       "'Family_Size'       FLOAT  optional  single                 -\n",
       "'Spending_Score'   STRING  required          'Spending_Score'"
      ]
     },
     "metadata": {},
     "output_type": "display_data"
    },
    {
     "data": {
      "text/html": [
       "<div>\n",
       "<style scoped>\n",
       "    .dataframe tbody tr th:only-of-type {\n",
       "        vertical-align: middle;\n",
       "    }\n",
       "\n",
       "    .dataframe tbody tr th {\n",
       "        vertical-align: top;\n",
       "    }\n",
       "\n",
       "    .dataframe thead th {\n",
       "        text-align: right;\n",
       "    }\n",
       "</style>\n",
       "<table border=\"1\" class=\"dataframe\">\n",
       "  <thead>\n",
       "    <tr style=\"text-align: right;\">\n",
       "      <th></th>\n",
       "      <th>Values</th>\n",
       "    </tr>\n",
       "    <tr>\n",
       "      <th>Domain</th>\n",
       "      <th></th>\n",
       "    </tr>\n",
       "  </thead>\n",
       "  <tbody>\n",
       "    <tr>\n",
       "      <th>'Graduated'</th>\n",
       "      <td>'No', 'Yes'</td>\n",
       "    </tr>\n",
       "    <tr>\n",
       "      <th>'Profession'</th>\n",
       "      <td>'Artist', 'Doctor', 'Engineer', 'Entertainment', 'Executive', 'Healthcare', 'Homemaker', 'Lawyer', 'Marketing'</td>\n",
       "    </tr>\n",
       "    <tr>\n",
       "      <th>'Spending_Score'</th>\n",
       "      <td>'Average', 'High', 'Low'</td>\n",
       "    </tr>\n",
       "  </tbody>\n",
       "</table>\n",
       "</div>"
      ],
      "text/plain": [
       "                                                                                                                          Values\n",
       "Domain                                                                                                                          \n",
       "'Graduated'                                                                                                          'No', 'Yes'\n",
       "'Profession'      'Artist', 'Doctor', 'Engineer', 'Entertainment', 'Executive', 'Healthcare', 'Homemaker', 'Lawyer', 'Marketing'\n",
       "'Spending_Score'                                                                                        'Average', 'High', 'Low'"
      ]
     },
     "metadata": {},
     "output_type": "display_data"
    }
   ],
   "source": [
    "tfdv.display_schema(schema=schema)"
   ]
  },
  {
   "cell_type": "code",
   "execution_count": 11,
   "id": "cab6c3a2-0247-4f36-819d-e47654b0a6f6",
   "metadata": {},
   "outputs": [],
   "source": [
    "graduated = tfdv.get_feature(schema, 'Graduated')\n",
    "graduated.presence.min_fraction = 1.0\n",
    "\n",
    "profession = tfdv.get_feature(schema, 'Profession')\n",
    "profession.presence.min_fraction = 1.0\n",
    "\n",
    "family_size = tfdv.get_feature(schema, 'Family_Size')\n",
    "family_size.presence.min_fraction = 1.0"
   ]
  },
  {
   "cell_type": "code",
   "execution_count": 12,
   "id": "2b675610-eb82-4992-93a1-ae8f1bf4dee6",
   "metadata": {},
   "outputs": [
    {
     "data": {
      "text/html": [
       "<div>\n",
       "<style scoped>\n",
       "    .dataframe tbody tr th:only-of-type {\n",
       "        vertical-align: middle;\n",
       "    }\n",
       "\n",
       "    .dataframe tbody tr th {\n",
       "        vertical-align: top;\n",
       "    }\n",
       "\n",
       "    .dataframe thead th {\n",
       "        text-align: right;\n",
       "    }\n",
       "</style>\n",
       "<table border=\"1\" class=\"dataframe\">\n",
       "  <thead>\n",
       "    <tr style=\"text-align: right;\">\n",
       "      <th></th>\n",
       "      <th>Type</th>\n",
       "      <th>Presence</th>\n",
       "      <th>Valency</th>\n",
       "      <th>Domain</th>\n",
       "    </tr>\n",
       "    <tr>\n",
       "      <th>Feature name</th>\n",
       "      <th></th>\n",
       "      <th></th>\n",
       "      <th></th>\n",
       "      <th></th>\n",
       "    </tr>\n",
       "  </thead>\n",
       "  <tbody>\n",
       "    <tr>\n",
       "      <th>'Graduated'</th>\n",
       "      <td>STRING</td>\n",
       "      <td>required</td>\n",
       "      <td>single</td>\n",
       "      <td>'Graduated'</td>\n",
       "    </tr>\n",
       "    <tr>\n",
       "      <th>'Profession'</th>\n",
       "      <td>STRING</td>\n",
       "      <td>required</td>\n",
       "      <td>single</td>\n",
       "      <td>'Profession'</td>\n",
       "    </tr>\n",
       "    <tr>\n",
       "      <th>'Work_Experience'</th>\n",
       "      <td>FLOAT</td>\n",
       "      <td>optional</td>\n",
       "      <td>single</td>\n",
       "      <td>-</td>\n",
       "    </tr>\n",
       "    <tr>\n",
       "      <th>'Family_Size'</th>\n",
       "      <td>FLOAT</td>\n",
       "      <td>required</td>\n",
       "      <td>single</td>\n",
       "      <td>-</td>\n",
       "    </tr>\n",
       "    <tr>\n",
       "      <th>'Spending_Score'</th>\n",
       "      <td>STRING</td>\n",
       "      <td>required</td>\n",
       "      <td></td>\n",
       "      <td>'Spending_Score'</td>\n",
       "    </tr>\n",
       "  </tbody>\n",
       "</table>\n",
       "</div>"
      ],
      "text/plain": [
       "                     Type  Presence Valency            Domain\n",
       "Feature name                                                 \n",
       "'Graduated'        STRING  required  single       'Graduated'\n",
       "'Profession'       STRING  required  single      'Profession'\n",
       "'Work_Experience'   FLOAT  optional  single                 -\n",
       "'Family_Size'       FLOAT  required  single                 -\n",
       "'Spending_Score'   STRING  required          'Spending_Score'"
      ]
     },
     "metadata": {},
     "output_type": "display_data"
    },
    {
     "data": {
      "text/html": [
       "<div>\n",
       "<style scoped>\n",
       "    .dataframe tbody tr th:only-of-type {\n",
       "        vertical-align: middle;\n",
       "    }\n",
       "\n",
       "    .dataframe tbody tr th {\n",
       "        vertical-align: top;\n",
       "    }\n",
       "\n",
       "    .dataframe thead th {\n",
       "        text-align: right;\n",
       "    }\n",
       "</style>\n",
       "<table border=\"1\" class=\"dataframe\">\n",
       "  <thead>\n",
       "    <tr style=\"text-align: right;\">\n",
       "      <th></th>\n",
       "      <th>Values</th>\n",
       "    </tr>\n",
       "    <tr>\n",
       "      <th>Domain</th>\n",
       "      <th></th>\n",
       "    </tr>\n",
       "  </thead>\n",
       "  <tbody>\n",
       "    <tr>\n",
       "      <th>'Graduated'</th>\n",
       "      <td>'No', 'Yes'</td>\n",
       "    </tr>\n",
       "    <tr>\n",
       "      <th>'Profession'</th>\n",
       "      <td>'Artist', 'Doctor', 'Engineer', 'Entertainment', 'Executive', 'Healthcare', 'Homemaker', 'Lawyer', 'Marketing'</td>\n",
       "    </tr>\n",
       "    <tr>\n",
       "      <th>'Spending_Score'</th>\n",
       "      <td>'Average', 'High', 'Low'</td>\n",
       "    </tr>\n",
       "  </tbody>\n",
       "</table>\n",
       "</div>"
      ],
      "text/plain": [
       "                                                                                                                          Values\n",
       "Domain                                                                                                                          \n",
       "'Graduated'                                                                                                          'No', 'Yes'\n",
       "'Profession'      'Artist', 'Doctor', 'Engineer', 'Entertainment', 'Executive', 'Healthcare', 'Homemaker', 'Lawyer', 'Marketing'\n",
       "'Spending_Score'                                                                                        'Average', 'High', 'Low'"
      ]
     },
     "metadata": {},
     "output_type": "display_data"
    }
   ],
   "source": [
    "tfdv.display_schema(schema)"
   ]
  },
  {
   "cell_type": "code",
   "execution_count": 13,
   "id": "3d8a6895-6e22-4018-858a-1fa426f29c44",
   "metadata": {},
   "outputs": [
    {
     "data": {
      "text/plain": [
       "name: \"Profession\"\n",
       "value: \"Artist\"\n",
       "value: \"Doctor\"\n",
       "value: \"Engineer\"\n",
       "value: \"Entertainment\"\n",
       "value: \"Executive\"\n",
       "value: \"Healthcare\"\n",
       "value: \"Homemaker\"\n",
       "value: \"Lawyer\"\n",
       "value: \"Marketing\""
      ]
     },
     "execution_count": 13,
     "metadata": {},
     "output_type": "execute_result"
    }
   ],
   "source": [
    "profession = tfdv.get_domain(schema, 'Profession')\n",
    "profession"
   ]
  },
  {
   "cell_type": "code",
   "execution_count": 14,
   "id": "16b4f768-273e-468d-bb4e-5fba2b26dc98",
   "metadata": {},
   "outputs": [
    {
     "data": {
      "text/plain": [
       "['Self-Employed', 'Artist', 'Doctor', 'Engineer', 'Entertainment', 'Executive', 'Healthcare', 'Homemaker', 'Lawyer', 'Marketing']"
      ]
     },
     "execution_count": 14,
     "metadata": {},
     "output_type": "execute_result"
    }
   ],
   "source": [
    "profession.value.insert(0, 'Self-Employed')\n",
    "profession.value"
   ]
  },
  {
   "cell_type": "code",
   "execution_count": 15,
   "id": "9e48dd2c-ae0a-4af9-872f-43fc8f937587",
   "metadata": {},
   "outputs": [
    {
     "data": {
      "text/plain": [
       "['Self-Employed', 'Artist', 'Doctor', 'Engineer', 'Entertainment', 'Executive', 'Healthcare', 'Lawyer', 'Marketing']"
      ]
     },
     "execution_count": 15,
     "metadata": {},
     "output_type": "execute_result"
    }
   ],
   "source": [
    "profession.value.remove('Homemaker')\n",
    "profession.value"
   ]
  },
  {
   "cell_type": "code",
   "execution_count": 16,
   "id": "5485126f-f0d2-4cff-9ef3-0c21f9644692",
   "metadata": {},
   "outputs": [
    {
     "data": {
      "text/plain": [
       "name: \"Family_Size\"\n",
       "value_count {\n",
       "  min: 1\n",
       "  max: 1\n",
       "}\n",
       "type: FLOAT\n",
       "presence {\n",
       "  min_fraction: 1.0\n",
       "  min_count: 1\n",
       "}"
      ]
     },
     "execution_count": 16,
     "metadata": {},
     "output_type": "execute_result"
    }
   ],
   "source": [
    "tfdv.get_feature(schema, 'Family_Size')"
   ]
  },
  {
   "cell_type": "code",
   "execution_count": 17,
   "id": "f0e1cae5-5e31-4307-8932-0ff29aeaad4b",
   "metadata": {},
   "outputs": [
    {
     "data": {
      "text/html": [
       "<div>\n",
       "<style scoped>\n",
       "    .dataframe tbody tr th:only-of-type {\n",
       "        vertical-align: middle;\n",
       "    }\n",
       "\n",
       "    .dataframe tbody tr th {\n",
       "        vertical-align: top;\n",
       "    }\n",
       "\n",
       "    .dataframe thead th {\n",
       "        text-align: right;\n",
       "    }\n",
       "</style>\n",
       "<table border=\"1\" class=\"dataframe\">\n",
       "  <thead>\n",
       "    <tr style=\"text-align: right;\">\n",
       "      <th></th>\n",
       "      <th>Type</th>\n",
       "      <th>Presence</th>\n",
       "      <th>Valency</th>\n",
       "      <th>Domain</th>\n",
       "    </tr>\n",
       "    <tr>\n",
       "      <th>Feature name</th>\n",
       "      <th></th>\n",
       "      <th></th>\n",
       "      <th></th>\n",
       "      <th></th>\n",
       "    </tr>\n",
       "  </thead>\n",
       "  <tbody>\n",
       "    <tr>\n",
       "      <th>'Graduated'</th>\n",
       "      <td>STRING</td>\n",
       "      <td>required</td>\n",
       "      <td>single</td>\n",
       "      <td>'Graduated'</td>\n",
       "    </tr>\n",
       "    <tr>\n",
       "      <th>'Profession'</th>\n",
       "      <td>STRING</td>\n",
       "      <td>required</td>\n",
       "      <td>single</td>\n",
       "      <td>'Profession'</td>\n",
       "    </tr>\n",
       "    <tr>\n",
       "      <th>'Work_Experience'</th>\n",
       "      <td>FLOAT</td>\n",
       "      <td>optional</td>\n",
       "      <td>single</td>\n",
       "      <td>-</td>\n",
       "    </tr>\n",
       "    <tr>\n",
       "      <th>'Family_Size'</th>\n",
       "      <td>INT</td>\n",
       "      <td>required</td>\n",
       "      <td>single</td>\n",
       "      <td>-</td>\n",
       "    </tr>\n",
       "    <tr>\n",
       "      <th>'Spending_Score'</th>\n",
       "      <td>STRING</td>\n",
       "      <td>required</td>\n",
       "      <td></td>\n",
       "      <td>'Spending_Score'</td>\n",
       "    </tr>\n",
       "  </tbody>\n",
       "</table>\n",
       "</div>"
      ],
      "text/plain": [
       "                     Type  Presence Valency            Domain\n",
       "Feature name                                                 \n",
       "'Graduated'        STRING  required  single       'Graduated'\n",
       "'Profession'       STRING  required  single      'Profession'\n",
       "'Work_Experience'   FLOAT  optional  single                 -\n",
       "'Family_Size'         INT  required  single                 -\n",
       "'Spending_Score'   STRING  required          'Spending_Score'"
      ]
     },
     "metadata": {},
     "output_type": "display_data"
    },
    {
     "data": {
      "text/html": [
       "<div>\n",
       "<style scoped>\n",
       "    .dataframe tbody tr th:only-of-type {\n",
       "        vertical-align: middle;\n",
       "    }\n",
       "\n",
       "    .dataframe tbody tr th {\n",
       "        vertical-align: top;\n",
       "    }\n",
       "\n",
       "    .dataframe thead th {\n",
       "        text-align: right;\n",
       "    }\n",
       "</style>\n",
       "<table border=\"1\" class=\"dataframe\">\n",
       "  <thead>\n",
       "    <tr style=\"text-align: right;\">\n",
       "      <th></th>\n",
       "      <th>Values</th>\n",
       "    </tr>\n",
       "    <tr>\n",
       "      <th>Domain</th>\n",
       "      <th></th>\n",
       "    </tr>\n",
       "  </thead>\n",
       "  <tbody>\n",
       "    <tr>\n",
       "      <th>'Graduated'</th>\n",
       "      <td>'No', 'Yes'</td>\n",
       "    </tr>\n",
       "    <tr>\n",
       "      <th>'Profession'</th>\n",
       "      <td>'Self-Employed', 'Artist', 'Doctor', 'Engineer', 'Entertainment', 'Executive', 'Healthcare', 'Lawyer', 'Marketing'</td>\n",
       "    </tr>\n",
       "    <tr>\n",
       "      <th>'Spending_Score'</th>\n",
       "      <td>'Average', 'High', 'Low'</td>\n",
       "    </tr>\n",
       "  </tbody>\n",
       "</table>\n",
       "</div>"
      ],
      "text/plain": [
       "                                                                                                                              Values\n",
       "Domain                                                                                                                              \n",
       "'Graduated'                                                                                                              'No', 'Yes'\n",
       "'Profession'      'Self-Employed', 'Artist', 'Doctor', 'Engineer', 'Entertainment', 'Executive', 'Healthcare', 'Lawyer', 'Marketing'\n",
       "'Spending_Score'                                                                                            'Average', 'High', 'Low'"
      ]
     },
     "metadata": {},
     "output_type": "display_data"
    }
   ],
   "source": [
    "size = tfdv.get_feature(schema, 'Family_Size')\n",
    "size.type = 2\n",
    "tfdv.display_schema(schema)"
   ]
  },
  {
   "cell_type": "markdown",
   "id": "6053303e-9ab9-4bd5-ba30-bfc5661b0762",
   "metadata": {},
   "source": [
    "<a style=\"color:black; text-decoration:none\" href=\"https://github.com/GoogleCloudPlatform/training-data-analyst/blob/master/courses/machine_learning/deepdive2/production_ml/solutions/tfdv_basic_spending.ipynb\">Solutions</a>"
   ]
  }
 ],
 "metadata": {
  "environment": {
   "kernel": "python3",
   "name": "tf2-gpu.2-6.m103",
   "type": "gcloud",
   "uri": "gcr.io/deeplearning-platform-release/tf2-gpu.2-6:m103"
  },
  "kernelspec": {
   "display_name": "Python 3 (ipykernel)",
   "language": "python",
   "name": "python3"
  },
  "language_info": {
   "codemirror_mode": {
    "name": "ipython",
    "version": 3
   },
   "file_extension": ".py",
   "mimetype": "text/x-python",
   "name": "python",
   "nbconvert_exporter": "python",
   "pygments_lexer": "ipython3",
   "version": "3.7.12"
  }
 },
 "nbformat": 4,
 "nbformat_minor": 5
}
